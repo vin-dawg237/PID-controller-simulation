{
  "cells": [
    {
      "cell_type": "code",
      "execution_count": null,
      "metadata": {
        "scrolled": true,
        "id": "vHjVHPUb_quo"
      },
      "outputs": [],
      "source": [
        "import numpy \n",
        "import matplotlib.pyplot as plt \n",
        "%matplotlib inline \n",
        "import scipy.integrate \n",
        "from scipy.integrate import solve_ivp\n",
        "import scipy.optimize\n",
        "import scipy.signal"
      ],
      "id": "vHjVHPUb_quo"
    },
    {
      "cell_type": "markdown",
      "metadata": {
        "id": "74hVdCWc_quv"
      },
      "source": [
        "# Blending Process Response"
      ],
      "id": "74hVdCWc_quv"
    },
    {
      "cell_type": "markdown",
      "metadata": {
        "id": "uye1wdMv_qux"
      },
      "source": [
        "The liquid storage system shown has two inlet streams ($w_{1}$ and $w_{2}$) and an outlet stream ($w_{3}$). The tank is $\\textbf{2.5 m high and 2 m}$ in diameter. The liquid density is $\\textbf{800 kg/m3}$. You may assume that the density is constant. The nominal operating conditions are as follows:"
      ],
      "id": "uye1wdMv_qux"
    },
    {
      "cell_type": "markdown",
      "metadata": {
        "id": "rI2wN4NB_quy"
      },
      "source": [
        "$$ \\bar{w_{1}} = 120 \\ \\mathrm{kg/min} $$"
      ],
      "id": "rI2wN4NB_quy"
    },
    {
      "cell_type": "markdown",
      "metadata": {
        "id": "-pdIPX1U_quz"
      },
      "source": [
        "$$ \\bar{w_{2}} = 100 \\ \\mathrm{kg/min} $$"
      ],
      "id": "-pdIPX1U_quz"
    },
    {
      "cell_type": "markdown",
      "metadata": {
        "id": "ygRzlZEx_qu0"
      },
      "source": [
        "The equations governing the dynamic behaviour of the system are as follows:"
      ],
      "id": "ygRzlZEx_qu0"
    },
    {
      "cell_type": "markdown",
      "metadata": {
        "id": "QCkUlhCv_qu0"
      },
      "source": [
        "$$ \\rho A \\frac{dh}{dt} = w_{1} + w_{2} -w_{3}$$ "
      ],
      "id": "QCkUlhCv_qu0"
    },
    {
      "cell_type": "markdown",
      "metadata": {
        "id": "gYck9Jhc_qu1"
      },
      "source": [
        "$$ w_{3} = C_{v}\\sqrt{h} $$"
      ],
      "id": "gYck9Jhc_qu1"
    },
    {
      "cell_type": "markdown",
      "metadata": {
        "id": "M7xsKDFx_qu2"
      },
      "source": [
        "In addition it is known that there is leak located 1 m from the base of the tank. The volumetric flow rate of the leak is expected to be modelled with reasonable accuracy by the following equation:"
      ],
      "id": "M7xsKDFx_qu2"
    },
    {
      "cell_type": "markdown",
      "metadata": {
        "id": "xz2PomPK_qu3"
      },
      "source": [
        "$$ q = 0.025\\sqrt{h-1} $$"
      ],
      "id": "xz2PomPK_qu3"
    },
    {
      "cell_type": "markdown",
      "metadata": {
        "id": "NNj6hPVx_qu4"
      },
      "source": [
        "You are now expected to simulate the above system in the time domain. This means you may not linearise and transform this system to the laplace domain. You may not make use of the control library. How you integrate the system is entirely up to you. $\\textbf{Simulate the system for a rectangular wave input in $w_{1}$ with appropriate magnitude changes}$. \n",
        "\n",
        "Cameron has attempted to help you out however his python skills are not as good as he claims. He has clearly made some errors and would greatly appreciate your help! You will have to debug the code and produce the final plot."
      ],
      "id": "NNj6hPVx_qu4"
    },
    {
      "cell_type": "markdown",
      "metadata": {
        "id": "UJDg6TE6_qu5"
      },
      "source": [
        "#notes#\n",
        "\n",
        "DO PID controller coding..needs to work \n",
        "Has to be a continuous system/PID.\n",
        "\n",
        "Will have mre submission to come..must have markdown with discussion on things given in SG.\n",
        "\n",
        "20%-Implementation of P,PI,PID controller ..have one but must easily distinguish different.\n",
        "Can include noise/point of linearization. Will show how to do cont.,dead time and .\n",
        "\n",
        "Fix some variables ..code not 100% working.\n"
      ],
      "id": "UJDg6TE6_qu5"
    },
    {
      "cell_type": "markdown",
      "source": [
        "## Parameters  of the system"
      ],
      "metadata": {
        "id": "PbPo-vzF_qu6"
      },
      "id": "PbPo-vzF_qu6"
    },
    {
      "cell_type": "code",
      "execution_count": null,
      "metadata": {
        "scrolled": true,
        "id": "N55i9vs8_qu7"
      },
      "outputs": [],
      "source": [
        "rho = 800 # kg/m3\n",
        "D = 2 # m\n",
        "hmax = 2.5 #m\n",
        "A = (numpy.pi/4)*(D**2) #m^2\n",
        "Cv = 200\n",
        "w1_ss = 120 # kg/min\n",
        "w2_ss = 100 # kg/min"
      ],
      "id": "N55i9vs8_qu7"
    },
    {
      "cell_type": "markdown",
      "source": [
        "## Inputs to the system:"
      ],
      "metadata": {
        "id": "dcNeXgS8_qu7"
      },
      "id": "dcNeXgS8_qu7"
    },
    {
      "cell_type": "code",
      "source": [
        "def MV_w1(t):\n",
        "    \"\"\"\n",
        "    THIS FUNCTION CAN BE ALTERED!\n",
        "    The manipulated variable w1. The output of \n",
        "    this function varies with time.\n",
        "    \n",
        "    Parameters\n",
        "    ----------\n",
        "    t : float or integer\n",
        "        Time.\n",
        "        Units - [min]\n",
        "\n",
        "    Returns\n",
        "    -------\n",
        "    w1 : float or integer\n",
        "        The mass flowrate of the manipulated\n",
        "        variable, w1.\n",
        "        Units - [kg/min]\n",
        "    \"\"\"\n",
        "    if t < 0:\n",
        "        \n",
        "        return w1_ss\n",
        "    \n",
        "    elif t < 10:\n",
        "        \n",
        "        return 120\n",
        "    \n",
        "    elif t >= 10 and t <125:\n",
        "        \n",
        "        return 125\n",
        "    \n",
        "    elif t >= 125:\n",
        "        \n",
        "        return w1_ss\n",
        "\n",
        "def MV_w1_step(t):\n",
        "    \"\"\"\n",
        "    THIS FUNCTION SHOULD NOT BE ALTERED!\n",
        "    The manipulated variable w1. The output of \n",
        "    this function varies with time. This function\n",
        "    should be used to fit the FOPDT model. \n",
        "    \n",
        "    Parameters\n",
        "    ----------\n",
        "    t : float or integer\n",
        "        Time.\n",
        "        Units - [min]\n",
        "\n",
        "    Returns\n",
        "    -------\n",
        "    w1 : float or integer\n",
        "        The mass flowrate of the manipulated\n",
        "        variable, w1.\n",
        "        Units - [kg/min]\n",
        "    \"\"\"\n",
        "    if t < 10:\n",
        "        \n",
        "        return w1_ss\n",
        "    \n",
        "    elif t >= 10:\n",
        "        \n",
        "        return w1_ss + M\n",
        "    \n",
        "    \n",
        "def MV_w2(t):\n",
        "    \"\"\"\n",
        "    THIS FUNCTION CAN BE ALTERED!\n",
        "    The manipulated variable w2. The output of \n",
        "    this function varies with time.\n",
        "    \n",
        "    Parameters\n",
        "    ----------\n",
        "    t : float or integer\n",
        "        Time.\n",
        "        Units - [min]\n",
        "\n",
        "    Returns\n",
        "    -------\n",
        "    w2 : float or integer\n",
        "        The mass flowrate of the manipulated\n",
        "        variable, w1.\n",
        "        Units - [kg/min]\n",
        "    \"\"\"\n",
        "    if t < 200:\n",
        "        \n",
        "        return w2_ss\n",
        "    \n",
        "    elif t >= 200:\n",
        "        \n",
        "        return 1.5*w2_ss"
      ],
      "metadata": {
        "id": "meZQ3a6kvYQ6"
      },
      "id": "meZQ3a6kvYQ6",
      "execution_count": null,
      "outputs": []
    },
    {
      "cell_type": "markdown",
      "source": [
        "## The outputs from the system:"
      ],
      "metadata": {
        "id": "_7aRmjlRvks7"
      },
      "id": "_7aRmjlRvks7"
    },
    {
      "cell_type": "code",
      "source": [
        "def w3(h):\n",
        "    \"\"\"\n",
        "    The mass flowrate out of the system which is a\n",
        "    function of the height of the tank.\n",
        "    \n",
        "    Parameters\n",
        "    ----------\n",
        "    h : float or integer\n",
        "        Height of the tank.\n",
        "        Units - [m]\n",
        "        \n",
        "    Other Parameters\n",
        "    ----------------\n",
        "    CV: float or integer\n",
        "        The flow coefficient of the valve.\n",
        "        Units - [dimensionless]\n",
        "\n",
        "    Returns\n",
        "    -------\n",
        "    w3 : float or integer\n",
        "        The mass flowrate out of the system.\n",
        "        Units - [kg/min]\n",
        "    \"\"\"\n",
        "    return Cv*numpy.sqrt(h)\n",
        "    \n",
        "def w_leak(h):\n",
        "    \"\"\"\n",
        "    The mass flowrate out of the system due to the leak\n",
        "    which is a function of the height of the tank.\n",
        "    \n",
        "    Parameters\n",
        "    ----------\n",
        "    h : float or integer\n",
        "        Height of the tank.\n",
        "        Units - [m]\n",
        "        \n",
        "    Other Parameters\n",
        "    ----------------\n",
        "    q: float or integer\n",
        "        The volumetric flowrate out of the tank.\n",
        "        Units - [m^3/min]\n",
        "\n",
        "    Returns\n",
        "    -------\n",
        "    w_leak : float or integer\n",
        "        The mass flowrate out of the system due to the leak.\n",
        "        Units - [kg/min]\n",
        "    \"\"\"\n",
        "    if h < 1: # Liquid level is below the leak.\n",
        "        \n",
        "        q = 0\n",
        "    \n",
        "    else: # Liquid level is above the leak.\n",
        "        q = 0.025 * numpy.sqrt(h - 1)\n",
        "        \n",
        "    return rho*q"
      ],
      "metadata": {
        "id": "dh3L4IKuvoo8"
      },
      "id": "dh3L4IKuvoo8",
      "execution_count": null,
      "outputs": []
    },
    {
      "cell_type": "markdown",
      "source": [
        "## Differential and integration functions:"
      ],
      "metadata": {
        "id": "3iRLSlyYv9Q_"
      },
      "id": "3iRLSlyYv9Q_"
    },
    {
      "cell_type": "code",
      "source": [
        "def diff(t,var, fitting = False):\n",
        "    \"\"\"\n",
        "    The function should contain all the differential \n",
        "    equations present in the system.\n",
        "    \n",
        "    Parameters\n",
        "    ----------\n",
        "    t : float or integer\n",
        "        Time.\n",
        "        Units - [min]\n",
        "        \n",
        "    var : iterable object or integer/float\n",
        "        If there is more than one diffferential equation\n",
        "        in the system, the var will be an iterable object.\n",
        "        Otherwise, var is either an integer or a float.\n",
        "        \n",
        "        - h : float or integer \n",
        "            Units - [m]\n",
        "            \n",
        "    fitting: Boolean\n",
        "        Default: False\n",
        "        Determines whether model fitting on a step response of \n",
        "        one of the manipulated variables is being done or not.\n",
        "            \n",
        "    Other Parameters\n",
        "    ----------------\n",
        "    rho: float or integer\n",
        "        The density of the fluid.\n",
        "        Units - [kg/m^3]\n",
        "        \n",
        "    A: float or integer\n",
        "        The cross-sectional area of the tank.\n",
        "        Units - [m^2]\n",
        "\n",
        "    Returns\n",
        "    -------\n",
        "    differential equations : iterable object\n",
        "        All the changes in dependent variables, as described in\n",
        "        var, with respect to time.\n",
        "        \n",
        "        - dh_dt:\n",
        "            The change in liquid level in the tank per unit time. \n",
        "            If the system is empty or is overflowing, then it \n",
        "            returns 0.\n",
        "            Units - [m]\n",
        "    \"\"\"\n",
        "    h = var[0]\n",
        "    \n",
        "    if h <= 0 or h >= hmax: # Bondaries of the liquid level\n",
        "        dhdt = 0\n",
        "    \n",
        "    else:\n",
        "        w1 = MV_w1_step(t) if fitting else MV_w1(t)\n",
        "        w2 = w2_ss if fitting else MV_w2(t)\n",
        "        dhdt = (1/ (rho * A)) * (w1 + w2 - w_leak(h) - w3(h))\n",
        "        \n",
        "    return [dhdt]\n",
        "    \n",
        "\n",
        "\n",
        "def solve_diff_equations(tspan, y0, fitting = False):\n",
        "    \"\"\"\n",
        "    Solves the differential equations in the diff function\n",
        "    using Euler integration.\n",
        "    \n",
        "    Parameters\n",
        "    ----------\n",
        "    tspan : array\n",
        "        An array of time values.\n",
        "        Units - [min]\n",
        "            \n",
        "    y0 : array\n",
        "        An array initial values.\n",
        "        Units - depends on the variable.\n",
        "        \n",
        "    Returns\n",
        "    -------\n",
        "    - ans_matrix:\n",
        "        The matrix containing the solution to each\n",
        "        differentiable equation in the system.\n",
        "        Units - depends on the variable\n",
        "    \"\"\"\n",
        "    dt = tspan[1] - tspan[0] # The time steps\n",
        "    ans_array = []\n",
        "    y = y0\n",
        "    \n",
        "    for index, t in enumerate(tspan):\n",
        "        ans_array.append(y)\n",
        "        dydt = diff(t = t, var = y, fitting = fitting)\n",
        "        y = []\n",
        "        for i, value in enumerate(dydt):\n",
        "            y.append(ans_array[-1][i] + value*dt)\n",
        "            \n",
        "    ans_matrix = numpy.array(ans_array).T\n",
        "\n",
        "    return ans_matrix"
      ],
      "metadata": {
        "id": "350sjaP1v8rT"
      },
      "id": "350sjaP1v8rT",
      "execution_count": null,
      "outputs": []
    },
    {
      "cell_type": "markdown",
      "source": [
        "## Steady-state function:"
      ],
      "metadata": {
        "id": "V5LFvS-YvyLs"
      },
      "id": "V5LFvS-YvyLs"
    },
    {
      "cell_type": "code",
      "source": [
        "def steady_state(y):\n",
        "    \"\"\"\n",
        "    Calculates the change in liquid level in the tank with respet to \n",
        "    time when the manipulated variables are still at steady state. This\n",
        "    function can be used with scipy.optimize.fsolve to solve the steady\n",
        "    state values.\n",
        "    \n",
        "    Parameters\n",
        "    ----------\n",
        "    y : An iterable object\n",
        "        These are all the dependent variables of the system of\n",
        "        differential equations as described in the diff function.\n",
        "        \n",
        "        - h : float or integer \n",
        "            Units - [m]\n",
        "        \n",
        "    Returns\n",
        "    -------\n",
        "    differential equations : iterable object\n",
        "        All the changes in dependent variables, as described in\n",
        "        var, with respect to time.\n",
        "        \n",
        "        - dh_dt:\n",
        "            The change in liquid level in the tank per unit time. \n",
        "            If the system is empty or is overflowing, then it \n",
        "            returns 0.\n",
        "            Units - [m]\n",
        "    \"\"\"\n",
        "    \n",
        "    return diff(-1,y)"
      ],
      "metadata": {
        "id": "CJyzg_z4vwrD"
      },
      "id": "CJyzg_z4vwrD",
      "execution_count": null,
      "outputs": []
    },
    {
      "cell_type": "markdown",
      "source": [
        "## Plotting Function"
      ],
      "metadata": {
        "id": "-wMtcyk_vw9l"
      },
      "id": "-wMtcyk_vw9l"
    },
    {
      "cell_type": "code",
      "execution_count": null,
      "metadata": {
        "scrolled": true,
        "id": "w5ipKtSe_qu7"
      },
      "outputs": [],
      "source": [
        "def plot_function(t, y_values, y_labels, markers, labels = None, titles = None, fig_size = (10, 7), subplot = True):\n",
        "    \"\"\"\n",
        "    Plot the desired graphs the user wants to display.\n",
        "    \n",
        "    Parameters\n",
        "    ----------\n",
        "    t : array\n",
        "        An array of time values.\n",
        "        Units - [min]\n",
        "            \n",
        "    y_values : A list of iterabe objects.\n",
        "        The dependent values for each graph.\n",
        "        Units - depends on the variable.\n",
        "    \n",
        "    y_labels : A list of strings.\n",
        "        The y-axis labels for each graph.\n",
        "    \n",
        "    Markers : A list of strings.\n",
        "        The marker that needs to be used for each plot.\n",
        "        \n",
        "    labels : A list of strings.\n",
        "        Default: None\n",
        "        The labels of each graph.\n",
        "\n",
        "    titles : A list of strings.\n",
        "        Default: None\n",
        "        Returns a title for each plot. If no\n",
        "        input is specified, then no titles will\n",
        "        be added to each plot.\n",
        "    \n",
        "    fig_size : A tuple of integers.\n",
        "        Default: (10, 7)\n",
        "        The figure size.\n",
        "    \n",
        "    subplot : Boolean\n",
        "        Default: True\n",
        "        Whether or not a subplot should be made.\n",
        "        \n",
        "    Returns\n",
        "    -------\n",
        "    None\n",
        "    \"\"\"\n",
        "    if subplot:\n",
        "        fig, axes = plt.subplots(len(y_values),1, figsize = fig_size)\n",
        "\n",
        "        for index, y in enumerate(y_values):\n",
        "            axes[index].plot(t, y, markers[index])\n",
        "            axes[index].set_xlabel(xlabel = \"time (min)\")\n",
        "            axes[index].set_ylabel(ylabel = y_labels[index])\n",
        "            if titles == None:\n",
        "                pass\n",
        "            else:\n",
        "                axes[index].set_title(label = titles[index])\n",
        "\n",
        "    \n",
        "    else:\n",
        "        for index, y in enumerate(y_values):\n",
        "            plt.figure(num = titles, figsize = fig_size)\n",
        "            plt.plot(tspan, y, markers[index], label = labels[index])\n",
        "        plt.legend(loc = \"best\")\n",
        "        plt.title(label = titles)\n",
        "        plt.xlabel(xlabel = \"Time (min)\")\n",
        "        plt.ylabel(ylabel = y_labels[0])\n",
        "    \n",
        "    plt.show()"
      ],
      "id": "w5ipKtSe_qu7"
    },
    {
      "cell_type": "markdown",
      "source": [
        "Calculate the steady-state value of h"
      ],
      "metadata": {
        "id": "Wxc7_p45wcT5"
      },
      "id": "Wxc7_p45wcT5"
    },
    {
      "cell_type": "code",
      "execution_count": null,
      "metadata": {
        "scrolled": true,
        "id": "nwqAWEjs_qvB",
        "outputId": "459073bc-4f96-4d99-e457-192bce774c75",
        "colab": {
          "base_uri": "https://localhost:8080/"
        }
      },
      "outputs": [
        {
          "output_type": "stream",
          "name": "stdout",
          "text": [
            "h_ss = 1.1315282657727623 m\n"
          ]
        }
      ],
      "source": [
        "h_ss_guess = [1.5]\n",
        "h_ss = scipy.optimize.fsolve(func = steady_state, \n",
        "                             x0 = h_ss_guess)[0] \n",
        "\n",
        "print(f\"h_ss = {h_ss} m\")"
      ],
      "id": "nwqAWEjs_qvB"
    },
    {
      "cell_type": "markdown",
      "source": [
        "Integrate  "
      ],
      "metadata": {
        "id": "N661_XMq_qvE"
      },
      "id": "N661_XMq_qvE"
    },
    {
      "cell_type": "code",
      "execution_count": null,
      "metadata": {
        "scrolled": true,
        "id": "2_CLccMj_qvE"
      },
      "outputs": [],
      "source": [
        "tspan = numpy.linspace(0,300,1000)\n",
        "h_array = solve_diff_equations(tspan = tspan,\n",
        "                               y0 = [h_ss])[0]\n",
        "\n",
        "MV_w1_array = numpy.array(list(map(MV_w1, tspan)))\n",
        "MV_w2_array = numpy.array(list(map(MV_w2, tspan)))\n",
        "w3_array = numpy.array(list(map(w3, h_array)))\n",
        "wleak_array = numpy.array(list(map(w_leak, h_array)))"
      ],
      "id": "2_CLccMj_qvE"
    },
    {
      "cell_type": "markdown",
      "source": [
        "Plot the responses."
      ],
      "metadata": {
        "id": "byIyUlAFwmAn"
      },
      "id": "byIyUlAFwmAn"
    },
    {
      "cell_type": "code",
      "execution_count": null,
      "metadata": {
        "scrolled": true,
        "id": "-lplqxZl_qvE",
        "outputId": "2fff4827-f45f-421f-9b43-79c0a315e7e4",
        "colab": {
          "base_uri": "https://localhost:8080/",
          "height": 877
        }
      },
      "outputs": [
        {
          "output_type": "display_data",
          "data": {
            "text/plain": [
              "<Figure size 720x1080 with 5 Axes>"
            ],
            "image/png": "[encoded data removed]"
          },
          "metadata": {
            "needs_background": "light"
          }
        }
      ],
      "source": [
        "yvalues = [h_array, MV_w1_array, MV_w2_array, w3_array, wleak_array] \n",
        "ylabels = [\"h (m)\", \"w1 (kg/min)\", \"w2 (kg/min)\", \"w3 (kg/min)\", \"w_leak (kg/min)\"]\n",
        "markers = [\"-b\"]*len(yvalues)\n",
        "colours = [\"b\"]*len(yvalues)\n",
        "plot_function(t = tspan,\n",
        "              y_values = yvalues,\n",
        "              y_labels = ylabels,\n",
        "              markers = markers,\n",
        "              fig_size = (10,15))"
      ],
      "id": "-lplqxZl_qvE"
    },
    {
      "cell_type": "markdown",
      "metadata": {
        "id": "YNaJluRQ_qvF"
      },
      "source": [
        "# FOPDT Fitting\n",
        "\n",
        "## FOPDT Functions:"
      ],
      "id": "YNaJluRQ_qvF"
    },
    {
      "cell_type": "code",
      "source": [
        "def FOPDT(t,KM,tau,theta): #define the time domain FOPDT function \n",
        "    \"\"\"\n",
        "    Calculates the response as a first order plus dead \n",
        "    time response.\n",
        "    \n",
        "    Parameters\n",
        "    ----------\n",
        "    t : array\n",
        "        An array of time values.\n",
        "        Units - [min]\n",
        "            \n",
        "    KM : Integer or float.\n",
        "        The gain multiplied by the magnitude of the\n",
        "        step change.\n",
        "        Units - [kg/min]\n",
        "    \n",
        "    tau : Integer or float.\n",
        "        The time constant.\n",
        "        Units - [kg/min]\n",
        "    \n",
        "    theta : Integer or float.\n",
        "        The dead time.\n",
        "        Units - [min]\n",
        "                \n",
        "    Returns\n",
        "    -------\n",
        "    y: float\n",
        "        The controlled variable of the system.\n",
        "        Units - [depends on the variable]\n",
        "    \"\"\"\n",
        "    theta = max(0,theta) # This is to ensure that theta >= 0\n",
        "    tau = max(0,tau) # This is to ensure that tau >= 0\n",
        "    \n",
        "    # We need to recalculate the steady-state values to make the code more robust.\n",
        "    y_ss_guess = [1.5]\n",
        "    y_ss = scipy.optimize.fsolve(func = steady_state, \n",
        "                                 x0 = h_ss_guess)[0]  \n",
        "\n",
        "    return y_ss + numpy.array([KM*(1-numpy.exp(-(t-theta)/tau)) if t >= theta else 0 for t in t])\n",
        "\n",
        "def FOPDT_fitting(t, y0, M):\n",
        "    \"\"\"\n",
        "    Fits the process data to a first order plus dead time model.\n",
        "    \n",
        "    Parameters\n",
        "    ----------\n",
        "    t : array\n",
        "        An array of time values.\n",
        "        Units - [min]\n",
        "            \n",
        "    y0 : An iterable object.\n",
        "        The initial value of the controlled variable.\n",
        "    \n",
        "    M : Integer or float.\n",
        "        The step change of the manipulated variable.\n",
        "        \n",
        "    Other Parameters\n",
        "    ----------------\n",
        "    y_FOPDT : array\n",
        "        The actual process data of the system.\n",
        "        Units - depends on the process\n",
        "        \n",
        "    y_max : Float\n",
        "        The maximum value in y_FOPDT\n",
        "        Units - depends on the process\n",
        "    \n",
        "    KM_guess : float\n",
        "        The initial guess value for KM.\n",
        "        Units - depends on y\n",
        "        \n",
        "    tau_guess: float\n",
        "        The initial guess value for tau.\n",
        "        Units - [min]\n",
        "                \n",
        "    Returns\n",
        "    -------\n",
        "    fitting paramaters: tuple\n",
        "        The fitting parameters produced by the \n",
        "        scipy.optimize.curve_fit method.\n",
        "        \n",
        "        - K : float\n",
        "            The process gain.\n",
        "            Units - depends on the process\n",
        "        \n",
        "        - tau : float\n",
        "            The process time constant\n",
        "            Units - [min]\n",
        "            \n",
        "        - theta : \n",
        "            The process dead time\n",
        "            Units - [min]    \n",
        "    \"\"\"\n",
        "    y_FOPDT = solve_diff_equations(tspan = tspan,\n",
        "                                   y0 = y0,\n",
        "                                   fitting = True)[0]\n",
        "    y_max = numpy.max(y_FOPDT)\n",
        "    KM_guess = y_max - y0[0] # kg/min\n",
        "    guessing = True\n",
        "    \n",
        "    while guessing:\n",
        "        \n",
        "        tau_guess = float(input(\"Guess the value of tau in minutes:\")) # min\n",
        "        theta_guess = float(input(\"Guess the value of theta in minutes:\")) # min\n",
        "        response_guess = FOPDT(t = tspan,\n",
        "                               KM = KM_guess,\n",
        "                               tau = tau_guess,\n",
        "                               theta = theta_guess)\n",
        "        \n",
        "        title = \"FOPDT model with guessing parameters\"\n",
        "        plot_function(t = tspan,\n",
        "                      y_values = [y_FOPDT, response_guess],\n",
        "                      y_labels = [\"h (m)\"], \n",
        "                      markers = [\"b*\", \"g-\"],\n",
        "                      labels = [\"Data\", \"Model\"],\n",
        "                      titles = title,\n",
        "                      subplot = False)\n",
        "        reply = True\n",
        "        \n",
        "        while reply:\n",
        "        \n",
        "            reply = input(\"Are you happy with your initial guesses? (Y/N)\")\n",
        "        \n",
        "            if reply == \"y\" or reply == \"Y\":\n",
        "                reply = False\n",
        "                guessing = False\n",
        "            \n",
        "            elif reply == \"N\" or reply == \"n\":\n",
        "                reply = False\n",
        "                plt.close()\n",
        "\n",
        "\n",
        "    params, cov =  scipy.optimize.curve_fit(f = FOPDT,\n",
        "                                        xdata = tspan,\n",
        "                                        ydata = y_FOPDT,\n",
        "                                        p0 = [KM_guess, tau_guess, theta_guess])\n",
        "\n",
        "    KM, tau , theta = params\n",
        "    K = KM / M\n",
        "    print(\"\\nAfter using scipy.optimize.curve_fit:\")\n",
        "    print(f\"KM = {round(KM,4)} kg/min\")\n",
        "    print(f\"K = KM/M = {round(K,4)} kg/min\")\n",
        "    print(f\"tau = {round(tau,1)} min\")\n",
        "    print(f\"theta = {round(theta,1)} min/n\")\n",
        "    \n",
        "    title = \"FOPDT model with actual parameters\"\n",
        "    \n",
        "    response = FOPDT(t = tspan, \n",
        "                     KM = KM,\n",
        "                     tau = tau,\n",
        "                     theta = theta)\n",
        "\n",
        "    plot_function(t = tspan,\n",
        "                  y_values = [y_FOPDT, response],\n",
        "                  y_labels = [\"h (m)\"], \n",
        "                  markers = [\"b*\", \"r-\"],\n",
        "                  labels = [\"Data\", \"Model\"],\n",
        "                  titles = title,\n",
        "                  subplot = False)\n",
        "    \n",
        "    return K, tau, theta"
      ],
      "metadata": {
        "id": "aIrRCNPauNKS"
      },
      "id": "aIrRCNPauNKS",
      "execution_count": null,
      "outputs": []
    },
    {
      "cell_type": "markdown",
      "source": [
        "Fit the FOPDT model"
      ],
      "metadata": {
        "id": "X0JghKeWwt5u"
      },
      "id": "X0JghKeWwt5u"
    },
    {
      "cell_type": "code",
      "source": [
        "h_ss"
      ],
      "metadata": {
        "colab": {
          "base_uri": "https://localhost:8080/"
        },
        "id": "hhVUulOg0Xl-",
        "outputId": "b2572ac3-0338-4e0a-e5c7-3b18c3847c36"
      },
      "id": "hhVUulOg0Xl-",
      "execution_count": null,
      "outputs": [
        {
          "output_type": "execute_result",
          "data": {
            "text/plain": [
              "1.1315282657727623"
            ]
          },
          "metadata": {},
          "execution_count": 12
        }
      ]
    },
    {
      "cell_type": "code",
      "execution_count": null,
      "metadata": {
        "scrolled": true,
        "id": "rkMtY6MN_qvF",
        "outputId": "00e30711-30cb-4b08-9156-28ecda679440",
        "colab": {
          "base_uri": "https://localhost:8080/",
          "height": 1000
        }
      },
      "outputs": [
        {
          "name": "stdout",
          "output_type": "stream",
          "text": [
            "Guess the value of tau in minutes:30\n",
            "Guess the value of theta in minutes:10\n"
          ]
        },
        {
          "output_type": "display_data",
          "data": {
            "text/plain": [
              "<Figure size 720x504 with 1 Axes>"
            ],
            "image/png": "[encoded data removed]"
          },
          "metadata": {
            "needs_background": "light"
          }
        },
        {
          "output_type": "stream",
          "name": "stdout",
          "text": [
            "Are you happy with your initial guesses? (Y/N)y\n",
            "\n",
            "After using scipy.optimize.curve_fit:\n",
            "KM = 0.0421 kg/min\n",
            "K = KM/M = 0.0084 kg/min\n",
            "tau = 21.2 min\n",
            "theta = 10.2 min/n\n"
          ]
        },
        {
          "output_type": "display_data",
          "data": {
            "text/plain": [
              "<Figure size 720x504 with 1 Axes>"
            ],
            "image/png": "[encoded data removed]"
          },
          "metadata": {
            "needs_background": "light"
          }
        }
      ],
      "source": [
        "# Define M:\n",
        "M = 5 # kg/min\n",
        "\n",
        "# Fit the parameters\n",
        "K, tau, theta = FOPDT_fitting(t = tspan, \n",
        "                              y0 = [h_ss], \n",
        "                              M = M)"
      ],
      "id": "rkMtY6MN_qvF"
    },
    {
      "cell_type": "markdown",
      "source": [
        "# Controller1"
      ],
      "metadata": {
        "id": "w9oKHps3qSR8"
      },
      "id": "w9oKHps3qSR8"
    },
    {
      "cell_type": "markdown",
      "metadata": {
        "id": "HI3Ve-KE_qvG"
      },
      "source": [
        "### For P control:\n",
        "\n",
        "$$G_c = K_c$$"
      ],
      "id": "HI3Ve-KE_qvG"
    },
    {
      "cell_type": "markdown",
      "metadata": {
        "id": "3QX312YD_qvG"
      },
      "source": [
        "### For PI control:\n",
        "\n",
        "$$G_c = K_c(1 + \\frac{1}{\\tau_I}) = \\frac{K_C\\tau_Is + K_C}{\\tau_Is}$$"
      ],
      "id": "3QX312YD_qvG"
    },
    {
      "cell_type": "markdown",
      "metadata": {
        "id": "RK8YLlqI_qvG"
      },
      "source": [
        "### For PD control:\n",
        "- assumed that K_c_PD = K_c_PID (for now)\n",
        "- assumed that tau_D_PD = tau_D_PID (for now)\n",
        "\n",
        "$$G_c = K_c(1+\\frac{\\tau_Ds}{\\alpha\\tau_Ds+1}) = \\frac{(K_C\\tau_D\\alpha+K_c\\tau_D) s + K_c}{\\tau_D\\alpha s+1}$$"
      ],
      "id": "RK8YLlqI_qvG"
    },
    {
      "cell_type": "markdown",
      "metadata": {
        "id": "Hdegq_DA_qvG"
      },
      "source": [
        "## PID control(realisable):\n",
        "- found on table 8.1 (this is for stable and realisable)\n",
        "\n",
        "$$G_c = K_c(1 + \\frac{1}{\\tau_Is}+\\frac{\\tau_Ds}{\\alpha\\tau_Ds+1}) = \\frac{(K_C\\tau_I\\tau_D\\alpha+K_c\\tau_I\\tau_D) s^2 +(K_c\\tau_I+K_c\\tau_D\\alpha) s+K_c}{\\tau_Is\\tau_D\\alpha s^2+\\tau_Is}$$\n"
      ],
      "id": "Hdegq_DA_qvG"
    },
    {
      "cell_type": "markdown",
      "source": [
        "## Controller functions:"
      ],
      "metadata": {
        "id": "HWkHfZ5pt_76"
      },
      "id": "HWkHfZ5pt_76"
    },
    {
      "cell_type": "code",
      "execution_count": null,
      "metadata": {
        "id": "QVnGNg2a_qvG"
      },
      "outputs": [],
      "source": [
        "def controller_settings_solver(mode, tau_c, K, tau, theta, alpha = 0.1):\n",
        "    \"\"\"\n",
        "    Calculates the tuning parameters of the controller using the IMC tuning \n",
        "    relations in table 12.1 in Seborg.\n",
        "    \n",
        "    Parameters\n",
        "    ----------\n",
        "    mode : string.\n",
        "        Defines which mode the controller is operating in.\n",
        "        \n",
        "        Options:\n",
        "        - \"P\" : Proportional control.\n",
        "        - \"PD\" : Proportional - Derivative control.\n",
        "        - \"PI\" : Proportional - Integral control.\n",
        "        - \"PID\" : Proportional - Integral - Derivative control. \n",
        "            \n",
        "    tau_c : Integer or float.\n",
        "        The desired closed loop time caonstant.\n",
        "        Units - [min]\n",
        "    \n",
        "    K : Integer or float.\n",
        "        The process gain.\n",
        "        Units - [Dimensionless]\n",
        "\n",
        "    tau: Integer or float\n",
        "        The process  time constant.\n",
        "        Units - [min]\n",
        "\n",
        "    theta: Integer or float.\n",
        "        The process dead time.\n",
        "        Units - [min]\n",
        "\n",
        "    alpha: float.\n",
        "        Derivative filter. Typical values for alpha range from 0.05 to 0.2, with\n",
        "        0.1 being a common choice. \n",
        "        Reference: Chapter 8.2.3 in Seborg\n",
        "\n",
        "        Default: 0.1\n",
        "        \n",
        "    Other Parameters\n",
        "    ----------------\n",
        "    numerator : list.\n",
        "        The numerator terms of the transfer function G_c.\n",
        "        \n",
        "    denominator : list.\n",
        "        The denominator terms of the transfer function G_c.\n",
        "               \n",
        "    Returns\n",
        "    -------\n",
        "    G_c : scipy.signal.ltisys.StateSpaceContinuous\n",
        "        The controller transfer function in the state-space form.\n",
        "        \n",
        "    K_c : float.\n",
        "        The controller gain.\n",
        "        Units - [Dimensionless]\n",
        "    \n",
        "    tau_I : float.\n",
        "        The integral time constant\n",
        "        Units - [min]\n",
        "        \n",
        "    tau_D : float.\n",
        "        The derivative time constant\n",
        "        Units - [min]\n",
        "    \"\"\"\n",
        "    if mode == 'P': #just assumed for now can use any suitable relationship\n",
        "        K_c = tau / (tau_c + theta) / K\n",
        "        tau_D = 0\n",
        "        tau_I = 0\n",
        "        numerator = [0, K_c]\n",
        "        denominator = [0, 1]\n",
        "    \n",
        "    elif mode == 'PI':\n",
        "        K_c = tau / (tau_c + theta) / K\n",
        "        tau_I = tau\n",
        "        tau_D = 0\n",
        "        numerator = [K_c*tau_I, K_c]\n",
        "        denominator = [tau_I, 0] \n",
        "    \n",
        "    elif mode=='PID':\n",
        "\n",
        "        K_c = (tau + theta / 2) / (tau_c + theta / 2) / K\n",
        "        tau_I = tau + theta / 2\n",
        "        tau_D = tau*theta / (2 * tau + theta)\n",
        "        \n",
        "        numerator = [K_c * tau_I * tau_D * alpha + K_c * tau_I * tau_D,\n",
        "                     K_c * tau_I + K_c * tau_D * alpha, K_c] \n",
        "        denominator = [tau_I * tau_D * alpha, tau_I, 0]\n",
        "\n",
        "    elif mode=='PD':\n",
        "        K_c = (tau + theta / 2) / (tau_c + theta / 2) / K\n",
        "        tau_I = 0\n",
        "        tau_D = tau*theta / (2 * tau + theta)\n",
        "        \n",
        "        numerator = [K_c * alpha * tau_D + K_c * tau_D, K_c]\n",
        "        denominator = [alpha * tau_D, 1] \n",
        "    \n",
        "    Gc = scipy.signal.lti(numerator, denominator).to_ss()\n",
        "    \n",
        "    return Gc, K_c, tau_I, tau_D\n",
        "\n",
        "\n",
        "def ysp(t):\n",
        "    \"\"\"\n",
        "    The set point of the controlled variable as a function of time. This funtion\n",
        "    can be alter too achieve the desired set point level.\n",
        "    \n",
        "    Parameters\n",
        "    ----------\n",
        "    t : float.\n",
        "        Time.\n",
        "        Units - [min]\n",
        "        \n",
        "    Returns\n",
        "    -------\n",
        "    y_sp : float or integer\n",
        "        The set point of the controlled variable.\n",
        "    \"\"\"\n",
        "    if t < 50:\n",
        "        return y_ss\n",
        "    \n",
        "    if t >= 50:\n",
        "        return 1.5\n",
        "\n",
        "def controller(tspan, tau_c, K, tau, theta, alpha = 0.1, mode = \"PID\"):\n",
        "    \"\"\"\n",
        "    This is the controller function. It controls the set point of the \n",
        "    controlled variable by changing the manipulated variable.\n",
        "    \n",
        "    Parameters\n",
        "    ----------\n",
        "    tspan : An iterable object.\n",
        "        An array of time values.\n",
        "        Units - [min]\n",
        "            \n",
        "    tau_c : Integer or float.\n",
        "        The desired closed loop time caonstant.\n",
        "        Units - [min]\n",
        "    \n",
        "    K : Integer or float.\n",
        "        The process gain.\n",
        "        Units - [Dimensionless]\n",
        "\n",
        "    tau: Integer or float\n",
        "        The process  time constant.\n",
        "        Units - [min]\n",
        "\n",
        "    theta: Integer or float.\n",
        "        The process dead time.\n",
        "        Units - [min]\n",
        "\n",
        "    alpha: float.\n",
        "        Derivative filter. Typical values for alpha range from 0.05 to 0.2, with\n",
        "        0.1 being a common choice. \n",
        "        Reference: Chapter 8.2.3 in Seborg\n",
        "\n",
        "        Default: 0.1\n",
        "\n",
        "    mode : string.\n",
        "        Defines which mode the controller is operating in.\n",
        "        Default: \"PID\"\n",
        "\n",
        "        Options:\n",
        "        - \"P\" : Proportional control.\n",
        "        - \"PD\" : Proportional - Derivative control.\n",
        "        - \"PI\" : Proportional - Integral control.\n",
        "        - \"PID\" : Proportional - Integral - Derivative control.\n",
        "\n",
        "        \n",
        "        \n",
        "    Other Parameters\n",
        "    ----------------\n",
        "    numerator : list.\n",
        "        The numerator terms of the transfer function G_c.\n",
        "        \n",
        "    denominator : list.\n",
        "        The denominator terms of the transfer function G_c.\n",
        "               \n",
        "    Returns\n",
        "    -------\n",
        "    hc_array : list.\n",
        "        The values of the controlled variable.\n",
        "        \n",
        "    w1_array : list.\n",
        "        The values of the manipulated variable.\n",
        "    \"\"\"\n",
        "    \n",
        "    Gc, K_c, tau_I, tau_D = controller_settings_solver(mode = mode,\n",
        "                                                       tau_c = tau_c,\n",
        "                                                       K = K, \n",
        "                                                       tau = tau, \n",
        "                                                       theta = theta, \n",
        "                                                       alpha = alpha)\n",
        "    \n",
        "    w10 = w1_ss # The bias assumed to be the steady state value.\n",
        "    w1_array = [] # kg/min\n",
        "    h = h_ss # Assume h is initially at steady state\n",
        "    hc_array = [] # This is the array of h values calculated during the control process\n",
        "\n",
        "    xc = numpy.zeros([Gc.A.shape[0], 1]) # This is the initial controller output assumed to be 0\n",
        "\n",
        "    dt = tspan[1] - tspan[0] # This is the time step\n",
        "\n",
        "    for t in tspan:\n",
        "        error = ysp(t) - h # This is the error of the system\n",
        "\n",
        "        dxcdt = Gc.A.dot(xc) + Gc.B.dot(error) # This is from the state-space representation: x^dot = Ax + Bu\n",
        "        yc = Gc.C.dot(xc) + Gc.D.dot(error) # This is from the state-space representation: y = Cx + Du\n",
        "        \n",
        "        \n",
        "        w1 = w10 + yc[0, 0] # The new value of w1 must be the initial w1 value + the output of the controller\n",
        "        \n",
        "        if w1 >= w1max:\n",
        "            w1 = w1max\n",
        "        \n",
        "        elif w1 <= 0:\n",
        "            w1 = 0\n",
        "            \n",
        "            \n",
        "        w2 = MV_w2(t) # w2 is a function of time (in this case, it is constant)\n",
        "        dhdt = (1/ (rho * A)) * (w1 + w2 - w_leak(h) - w3(h)) # The differential equation of h\n",
        "        h += dhdt*dt # Euler integration\n",
        "        xc += dxcdt*dt # Euler integration\n",
        "\n",
        "        hc_array.append(h)\n",
        "        w1_array.append(w1)\n",
        "        \n",
        "    return hc_array, w1_array"
      ],
      "id": "QVnGNg2a_qvG"
    },
    {
      "cell_type": "markdown",
      "source": [
        "## Controller responses:"
      ],
      "metadata": {
        "id": "MklHKna-xsAq"
      },
      "id": "MklHKna-xsAq"
    },
    {
      "cell_type": "code",
      "execution_count": null,
      "metadata": {
        "scrolled": true,
        "id": "gH9XRIR6_qvH",
        "outputId": "40b7e070-bf2d-4cfe-b212-4af3a2ac7845",
        "colab": {
          "base_uri": "https://localhost:8080/"
        }
      },
      "outputs": [
        {
          "output_type": "stream",
          "name": "stderr",
          "text": [
            "/usr/local/lib/python3.7/dist-packages/scipy/signal/filter_design.py:1622: BadCoefficients: Badly conditioned filter coefficients (numerator): the results may be meaningless\n",
            "  \"results may be meaningless\", BadCoefficients)\n"
          ]
        }
      ],
      "source": [
        "# Define tau_c:\n",
        "tau_c = theta # Dafault value by Grinholt and Skogestad (2013) \n",
        "              # [Table 12.3 in  Seborg]\n",
        "w1max = 1.5*w1_ss # Maximum saturation limit of manipulated  variable\n",
        "w1min = 0 # Minimum saturation limit  of manipulated  variable\n",
        "modes = [\"PI\", \"PD\", \"PID\", \"P\"]\n",
        "y_ss = h_ss\n",
        "\n",
        "# Storage space\n",
        "h_sp_array = numpy.array(list(map(ysp, tspan)))\n",
        "w2_array = numpy.array(list(map(MV_w2, tspan)))\n",
        "\n",
        "hc_mat, w1_mat, w3_mat, wleak_mat = [h_sp_array], [w2_array], [], []  \n",
        "\n",
        "# Calculate the responses of the controller for each mode.\n",
        "for mode in modes:\n",
        "    hc_array, w1_array = controller(tspan = tspan, \n",
        "                                    tau_c = tau_c, \n",
        "                                    K = K, \n",
        "                                    tau = tau, \n",
        "                                    theta = theta, \n",
        "                                    mode = mode)\n",
        "    \n",
        "    w3_array = numpy.array(list(map(w3, hc_array)))\n",
        "    wleak_array = numpy.array(list(map(w_leak, hc_array)))\n",
        "    \n",
        "    hc_mat.append(hc_array)\n",
        "    w1_mat.append(w1_array)\n",
        "    w3_mat.append(w3_array)\n",
        "    wleak_mat.append(wleak_array)\n"
      ],
      "id": "gH9XRIR6_qvH"
    },
    {
      "cell_type": "markdown",
      "source": [
        "At t = 50 min, there is a step change in the set point from the steady state height to 1.5 m. At t = 200 min, the flowrate of w2 goes steps from 100 kg/min to 150 kg/min."
      ],
      "metadata": {
        "id": "v6eOVCaFJU5A"
      },
      "id": "v6eOVCaFJU5A"
    },
    {
      "cell_type": "code",
      "execution_count": null,
      "metadata": {
        "scrolled": false,
        "id": "ZbLGQ3wa_qvH",
        "outputId": "48ea87b9-6cf6-4923-f132-6b6ef3f48d13",
        "colab": {
          "base_uri": "https://localhost:8080/",
          "height": 457
        }
      },
      "outputs": [
        {
          "output_type": "display_data",
          "data": {
            "text/plain": [
              "<Figure size 720x504 with 1 Axes>"
            ],
            "image/png": "[encoded data removed]"
          },
          "metadata": {
            "needs_background": "light"
          }
        }
      ],
      "source": [
        "markers = [\"b-\", \"r-\", \"g-\", \"m-\", \"c-\"]\n",
        "labels = [\"Set point\", \"P\", \"PI\", \"PD\", \"PID\"]\n",
        "\n",
        "plot_function(t = tspan,\n",
        "              y_values = hc_mat,\n",
        "              y_labels = [\"h (m)\"],\n",
        "              markers = markers,\n",
        "              labels = labels,\n",
        "              titles = \"Controller response: height vs time\",\n",
        "              fig_size = (10, 7),\n",
        "              subplot = False)"
      ],
      "id": "ZbLGQ3wa_qvH"
    },
    {
      "cell_type": "code",
      "execution_count": null,
      "metadata": {
        "id": "g8aaHyzo_qvH",
        "outputId": "47c60090-1e7f-4299-8328-bd8c655d7fb3",
        "colab": {
          "base_uri": "https://localhost:8080/",
          "height": 457
        }
      },
      "outputs": [
        {
          "output_type": "display_data",
          "data": {
            "text/plain": [
              "<Figure size 720x504 with 1 Axes>"
            ],
            "image/png": "[encoded data removed]"
          },
          "metadata": {
            "needs_background": "light"
          }
        }
      ],
      "source": [
        "markers = [\"b-\", \"r-\", \"g-\", \"m-\", \"c-\"]\n",
        "labels = [\"w2\",\"P\", \"PI\", \"PD\", \"PID\", ]\n",
        "\n",
        "plot_function(t = tspan,\n",
        "              y_values = w1_mat,\n",
        "              y_labels = [\"w1 (kg/min)\"],\n",
        "              markers = markers,\n",
        "              labels = labels,\n",
        "              titles = \"Controller response: w1 vs time\",\n",
        "              fig_size = (10, 7),\n",
        "              subplot = False)\n"
      ],
      "id": "g8aaHyzo_qvH"
    },
    {
      "cell_type": "code",
      "execution_count": null,
      "metadata": {
        "id": "xE41QIeC_qvM",
        "outputId": "76fdd1e5-80b8-4abf-d6b7-6498aadb0005",
        "colab": {
          "base_uri": "https://localhost:8080/",
          "height": 457
        }
      },
      "outputs": [
        {
          "output_type": "display_data",
          "data": {
            "text/plain": [
              "<Figure size 720x504 with 1 Axes>"
            ],
            "image/png": "[encoded data removed]"
          },
          "metadata": {
            "needs_background": "light"
          }
        }
      ],
      "source": [
        "plot_function(t = tspan,\n",
        "              y_values = w3_mat,\n",
        "              y_labels = [\"w3 (kg/min)\"],\n",
        "              markers = markers,\n",
        "              labels = modes,\n",
        "              titles = \"Controller response: w3 vs time\",\n",
        "              fig_size = (10, 7),\n",
        "              subplot = False)"
      ],
      "id": "xE41QIeC_qvM"
    },
    {
      "cell_type": "code",
      "execution_count": null,
      "metadata": {
        "id": "oZMrxTsm_qvN",
        "outputId": "333fe588-5718-4d4c-dca7-7980dcc93f0b",
        "colab": {
          "base_uri": "https://localhost:8080/",
          "height": 457
        }
      },
      "outputs": [
        {
          "output_type": "display_data",
          "data": {
            "text/plain": [
              "<Figure size 720x504 with 1 Axes>"
            ],
            "image/png": "[encoded data removed]"
          },
          "metadata": {
            "needs_background": "light"
          }
        }
      ],
      "source": [
        "plot_function(t = tspan,\n",
        "              y_values = wleak_mat,\n",
        "              y_labels = [\"wleak (kg/min)\"],\n",
        "              markers = markers,\n",
        "              labels = modes,\n",
        "              titles = \"Controller response: wleak vs time\",\n",
        "              fig_size = (10, 7),\n",
        "              subplot = False)"
      ],
      "id": "oZMrxTsm_qvN"
    }
  ],
  "metadata": {
    "kernelspec": {
      "display_name": "Python 3",
      "language": "python",
      "name": "python3"
    },
    "language_info": {
      "codemirror_mode": {
        "name": "ipython",
        "version": 3
      },
      "file_extension": ".py",
      "mimetype": "text/x-python",
      "name": "python",
      "nbconvert_exporter": "python",
      "pygments_lexer": "ipython3",
      "version": "3.8.5"
    },
    "colab": {
      "name": "Part 1 - for submission.ipynb",
      "provenance": [],
      "collapsed_sections": [],
      "toc_visible": true
    }
  },
  "nbformat": 4,
  "nbformat_minor": 5
}